{
 "cells": [
  {
   "cell_type": "code",
   "execution_count": null,
   "id": "9e776bb9",
   "metadata": {},
   "outputs": [],
   "source": [
    "\n",
    "################################# MULTI GPU BASED SEGMENTATION APPROACH ################################"
   ]
  },
  {
   "cell_type": "code",
   "execution_count": null,
   "id": "ea7bc74c",
   "metadata": {},
   "outputs": [],
   "source": [
    "# original directory path and working directory path for images\n"
   ]
  },
  {
   "cell_type": "code",
   "execution_count": null,
   "id": "abf41ddb",
   "metadata": {},
   "outputs": [],
   "source": [
    "# original directory path and working directory path for images\n",
    "data = \"/raid/mpsych/RISTERLAB/fly_segmentation_experiments/data_dir/raw_files\"\n",
    "working_dir = \"/raid/mpsych/RISTERLAB/fly_segmentation_experiments/data_dir\"\n",
    "\n",
    "###########################################################################################\n",
    "real = working_dir + \"/test2/real_images\"\n",
    "normalized = working_dir + \"/test2/normalized_images\"\n",
    "cropped = working_dir + \"/test2/cropped_images\"\n",
    "npy = working_dir + \"/test2/pre_processing/npy\"\n",
    "originals = working_dir + \"/test2/pre_processing/originals\"\n",
    "masks = working_dir + \"/test2/pre_processing/masks\"\n",
    "test = working_dir + \"/test2/pre_processing/test\"\n",
    "s = working_dir + \"/test2/S\"\n"
   ]
  },
  {
   "cell_type": "code",
   "execution_count": null,
   "id": "fa6dae4e",
   "metadata": {},
   "outputs": [],
   "source": [
    "#!pip install --force-reinstall gpustat\n",
    "#!pip install pynvml\n",
    "#!pip install scipy"
   ]
  },
  {
   "cell_type": "code",
   "execution_count": null,
   "id": "f18ccf33",
   "metadata": {},
   "outputs": [],
   "source": [
    "!pip uninstall numpy mahotas -y"
   ]
  },
  {
   "cell_type": "code",
   "execution_count": null,
   "id": "9ceb44ef",
   "metadata": {},
   "outputs": [],
   "source": []
  },
  {
   "cell_type": "code",
   "execution_count": null,
   "id": "641fce32",
   "metadata": {},
   "outputs": [],
   "source": [
    "!pip uninstall numpy mahatos -y"
   ]
  },
  {
   "cell_type": "code",
   "execution_count": null,
   "id": "35fce169",
   "metadata": {
    "scrolled": true
   },
   "outputs": [],
   "source": [
    "!pip install mahotas==1.4.7"
   ]
  },
  {
   "cell_type": "code",
   "execution_count": null,
   "id": "6bafa048",
   "metadata": {},
   "outputs": [],
   "source": [
    "!pip install numpy==1.19.5"
   ]
  },
  {
   "cell_type": "code",
   "execution_count": null,
   "id": "0282375b",
   "metadata": {},
   "outputs": [],
   "source": [
    "import mahotas as mh\n",
    "import os\n",
    "import torch\n",
    "import torch.distributed as dist\n",
    "from torch.multiprocessing import Process\n",
    "import os\n",
    "import shutil\n",
    "from tqdm import tqdm\n",
    "import numpy as np\n",
    "import matplotlib.pyplot as plt\n",
    "from skimage import measure, filters\n",
    "import mahotas as mh\n",
    "#import gpustat #for gpu \n",
    "import pynvml\n",
    "import scipy"
   ]
  },
  {
   "cell_type": "code",
   "execution_count": null,
   "id": "13927b19",
   "metadata": {},
   "outputs": [],
   "source": [
    "import cProfile\n",
    "import time                          #########################For checking time taken for 1 -iteration\n",
    "import multiprocessing\n",
    "#from multiprocessing import Process"
   ]
  },
  {
   "cell_type": "code",
   "execution_count": null,
   "id": "0ede3690",
   "metadata": {},
   "outputs": [],
   "source": [
    "import os\n",
    "import shutil\n",
    "from tqdm import tqdm\n",
    "import torch\n",
    "import numpy\n",
    "from skimage import measure, filters"
   ]
  },
  {
   "cell_type": "code",
   "execution_count": null,
   "id": "dfd1b46e",
   "metadata": {},
   "outputs": [],
   "source": [
    "#import gpustat #for gpu \n",
    "import torchvision\n",
    "print(torchvision.__version__)\n",
    "import scipy.ndimage\n",
    "import torch.nn.functional as F\n",
    "from scipy.ndimage import label"
   ]
  },
  {
   "cell_type": "code",
   "execution_count": null,
   "id": "2476147a",
   "metadata": {},
   "outputs": [],
   "source": [
    "#!pip install nvidia-ml-py3"
   ]
  },
  {
   "cell_type": "code",
   "execution_count": null,
   "id": "c149528d",
   "metadata": {},
   "outputs": [],
   "source": [
    "########################################### FUNCTOIN FOR TIMER ##########################################\n",
    "import time\n",
    "\n",
    "start_time = 0  # Define start_time in the global scope\n",
    "\n",
    "def starttime():\n",
    "    global start_time  # Use the global keyword to access the global start_time variable\n",
    "    start_time = time.time()\n",
    "    \n",
    "def endtime():\n",
    "    end_time = time.time()\n",
    "    execution_time = end_time - start_time\n",
    "    print(f\"Execution time: {execution_time:.2f} seconds\")"
   ]
  },
  {
   "cell_type": "code",
   "execution_count": null,
   "id": "db99cab8",
   "metadata": {},
   "outputs": [],
   "source": [
    "#!pip install imread"
   ]
  },
  {
   "cell_type": "code",
   "execution_count": null,
   "id": "ee5265d8",
   "metadata": {},
   "outputs": [],
   "source": [
    "###########                  M g P s A                                      ##################"
   ]
  },
  {
   "cell_type": "code",
   "execution_count": null,
   "id": "d40567d1",
   "metadata": {},
   "outputs": [],
   "source": [
    "#################### MULTI GPU baSeD SEGMENTATION APPROACH ######################"
   ]
  },
  {
   "cell_type": "code",
   "execution_count": null,
   "id": "0f925570",
   "metadata": {},
   "outputs": [],
   "source": []
  },
  {
   "cell_type": "code",
   "execution_count": null,
   "id": "b0ec08d9",
   "metadata": {},
   "outputs": [],
   "source": [
    "#!pip install mahotas --no-binary :all:"
   ]
  },
  {
   "cell_type": "code",
   "execution_count": null,
   "id": "9fc637f6",
   "metadata": {
    "scrolled": true
   },
   "outputs": [],
   "source": [
    "\n",
    "def run(rank, size):\n",
    "    # Set the CUDA device for this process\n",
    "    torch.cuda.set_device(rank)\n",
    "    # Add a print statement here to see the value of rank\n",
    "    print(f\"Rank: {rank}\")#################################################################DEBugging\n",
    "    \n",
    "    success = False  # Set default value for success\n",
    "    success_count=0\n",
    "    starttime()#################################################################################time\n",
    "    image_files = sorted([os.path.join(s,z) for z in os.listdir(s) if z.endswith(\"tif\")])\n",
    "    \n",
    "    # Split the list of image files across all processes (GPUs)\n",
    "    chunk_size = len(image_files) // size\n",
    "    start_index = rank * chunk_size\n",
    "    end_index = start_index + chunk_size if rank < size - 1 else len(image_files)\n",
    "    \n",
    "    print ('time for assigining ranks of the gpu :')\n",
    "    endtime()##################################################################################time\n",
    "    # Process images assigned to this process (GPU)\n",
    "    for i in range(start_index,end_index):\n",
    "            img=mh.imread(image_files[i])\n",
    "            name_only = os.path.basename(image_files[i])\n",
    "            #print(name_only)\n",
    "            starttime()###################################################################time\n",
    "            print(name_only)\n",
    "            plt.imshow(img)\n",
    "            plt.show()              \n",
    "            #print (z)\n",
    "            #a =img.shape           \n",
    "            #plt.imshow(img)\n",
    "            #plt.show()\n",
    "            #img = torch.from_numpy(img).to('cuda')\n",
    "            #b = img.copy()\n",
    "            #b = torch.from_numpy(b)\n",
    "            # Move input data to GPU\n",
    "            #b = b.to('cuda')\n",
    "\n",
    "            success = False\n",
    "            device=torch.device(f'cuda:{rank}')\n",
    "            # Add a print statement here to see the value of device\n",
    "            print(f\"Device: {device}\")\n",
    "            \n",
    "            print ('time taken for assigning  image:',name_only)\n",
    "            endtime()#####################################################################TIME\n",
    "            \n",
    "            for g in range(100, 0, -1):\n",
    "                starttime()##############################################################TIME\n",
    "                # Initialize NVML\n",
    "                pynvml.nvmlInit()#####################################              GPU START\n",
    "                b = img.copy()\n",
    "                b = torch.from_numpy(b)\n",
    "                # Move input data to GPU\n",
    "                print (f\"(this iteration is with g value, {g} ,for the image:,{name_only}, on Device: {device}\")\n",
    "                b = b.to('cuda')\n",
    "                b.masked_fill_(b < g, 0)\n",
    "                # Label the regions in the filtered image\n",
    "                # Convert PyTorch tensor to numpy array\n",
    "                b_np = b.cpu().numpy()\n",
    "\n",
    "                # Find connected components in the image\n",
    "                labeled, number = scipy.ndimage.label(b_np)\n",
    "\n",
    "                # Convert labeled regions back to PyTorch tensor\n",
    "                labeled = torch.from_numpy(labeled).to(b.device)                \n",
    "\n",
    "                number = labeled.max().item()\n",
    "\n",
    "\n",
    "                # filter based on labeled region size\n",
    "                sizes = torch.bincount(labeled.view(-1))\n",
    "                 # Remove the regions that are less than 1500\n",
    "                too_small = (sizes < 1500).nonzero(as_tuple=True)[0]\n",
    "                labeled_only_big = labeled.clone()\n",
    "                for i in too_small:\n",
    "                    labeled_only_big[labeled == i] = 0\n",
    "\n",
    "                # Get the number of GPUs\n",
    "                device_count = pynvml.nvmlDeviceGetCount()########################             GPU\n",
    "\n",
    "                # Create a binary mask from the filtered labeled regions\n",
    "                binary_mask = (labeled_only_big > 0).float()\n",
    "                number_1 = binary_mask.max().item()\n",
    "\n",
    "                # Close the regions in the binary mask\n",
    "                kernel_size=3\n",
    "                kernel=torch.ones((kernel_size,kernel_size),device=binary_mask.device)\n",
    "\n",
    "                binary_mask_closed=F.conv2d(binary_mask[None,None,...],kernel[None,None,...],padding=kernel_size//2)>0\n",
    "\n",
    "                #binary_mask_closed_filtered=F.gaussian_filter(binary_mask_closed.float(),sigma=3) \n",
    "                binary_mask_closed_filtered=(binary_mask_closed)\n",
    "                binary_mask_closed_filtered = binary_mask_closed_filtered.to(torch.float32)\n",
    "\n",
    "\n",
    "\n",
    "\n",
    "                # Move tensor from GPU to CPU and convert to NumPy array\n",
    "                binary_mask_closed_filtered_np = binary_mask_closed_filtered.cpu().numpy()\n",
    "                ###edited               \n",
    "\n",
    "                #changed this line check  ----ref for debugging\n",
    "                #labeled,number_final= label(binary_mask_closed_filtered.cpu())\n",
    "                labeled,number_final= label(binary_mask_closed_filtered_np)\n",
    "\n",
    "\n",
    "                # Apply binary threshold to the image to segment the regions of interest                    \n",
    "                threshold=binary_mask_closed_filtered.flatten().kthvalue(int(binary_mask_closed_filtered.numel()*0.5))[0]                     \n",
    "                binary_image=binary_mask_closed_filtered>threshold   \n",
    "\n",
    "\n",
    "                 ###edited               \n",
    "\n",
    "                #changed this line check  ----ref for debugging\n",
    "                # Move tensor from GPU to CPU and convert to NumPy array\n",
    "                binary_image_np = binary_image.cpu().numpy()\n",
    "                labeled,num_regions= label(binary_image_np)#, return_num=True)\n",
    "\n",
    "                #closed this line and replaced with abovr --- ref for debugging\n",
    "                #labeled,num_regions= label(binary_image)#, return_num=True)\n",
    "\n",
    "                region_sizes=[(labeled==i+1).sum() for i in range(num_regions)]\n",
    "\n",
    "                min_region_size=5000\n",
    "\n",
    "                large_regions_counted=sum([size>min_region_size for size in region_sizes])\n",
    "\n",
    "\n",
    "                # Iterate over the region sizes and count the number of large regions\n",
    "\n",
    "                for region_size in region_sizes:\n",
    "                    if region_size > min_region_size:\n",
    "                        large_regions_counted += 1\n",
    "                        #print(large_regions_counted)\n",
    "\n",
    "\n",
    "                binary_image_np = binary_image.cpu().numpy() \n",
    "                binary_image_np = binary_image_np.reshape(binary_image_np.shape[2], binary_image_np.shape[3])\n",
    "                #print (z)\n",
    "\n",
    "                # Loop over each GPU and get its utilization rate   ####################GPU\n",
    "                for i in range(device_count):\n",
    "                    handle = pynvml.nvmlDeviceGetHandleByIndex(i)\n",
    "                    name = pynvml.nvmlDeviceGetName(handle)\n",
    "                    serial = pynvml.nvmlDeviceGetSerial(handle)\n",
    "                    util = pynvml.nvmlDeviceGetUtilizationRates(handle)\n",
    "                    timestamp = time.strftime(\"%Y-%m-%d %H:%M:%S\", time.localtime())\n",
    "                    print(f\"{name} - {serial} - Utilization: {util.gpu}% - Timestamp: {timestamp}\")\n",
    "                    #print(f\"{name.decode()} - Utilization: {util.gpu}% - Timestamp: {time.strftime()}\")\n",
    "\n",
    "                # Shut down NVML\n",
    "                pynvml.nvmlShutdown()##############################################GPU\n",
    "                print('time taken for iteration',g)\n",
    "                endtime()#########################################################################TIME\n",
    "                plt.imshow(binary_image_np)\n",
    "                plt.show()\n",
    "                print (number_final,\" <=50 and number_1 >=25 \")\n",
    "                print(large_regions_counted, \">= 2\")\n",
    "                print (\"######################################################################\")\n",
    "\n",
    "                if number_final <=150 and number_1 >=100:\n",
    "                    if large_regions_counted <=30:\n",
    "                        success=True\n",
    "                        print (\"######################################################################\")\n",
    "                        plt.imshow(binary_image_np)\n",
    "                        plt.show()\n",
    "                        #print(f'success: {success}')\n",
    "                        percent_success=(success_count/len(os.listdir(cropped)))*100\n",
    "                        shutil.move(os.path.join(S,z),os.path.join(GS,z))\n",
    "                        mh.imsave(os.path.join(GS,z),binary_image_np)\n",
    "                        print(f'percent_success: {percent_success}')\n",
    "                        #print(f'large_regions_counted: {large_regions_counted}')\n",
    "                        print ('number_1',number_final)\n",
    "                        print(large_regions_counted, \"<=30 \")\n",
    "                        print (\"######################################################################\")\n",
    "\n",
    "                        break       \n",
    "\n",
    "\n",
    "            if success==True:\n",
    "                #print (z)\n",
    "                plt.imshow(binary_image)\n",
    "                plt.show()\n",
    "                print (number_final,\" <=510 and number_1 >=100    second if condition \")\n",
    "                print(large_regions_counted, \"<= 30 second if condition\")\n",
    "                print (\"######################################################################\")\n",
    "                #shutil.move(os.path.join(normalized,z),os.path.join(originals,z))                 \n",
    "                #shutil.move(os.path.join(cropped,z),os.path.join(masks,z))                 \n",
    "                #mh.imsave(os.path.join(masks,z),binary_image)                 \n",
    "                success_count+=1        \n",
    "                percent_success=(success_count/len(os.listdir(dir)))*100        \n",
    "                if percent_success>=50 and percent_success<100:\n",
    "                     print('50% Success')                \n",
    "                elif percent_success==100:\n",
    "                     print('100% Success')\n",
    "    pass\n",
    "\n",
    "def init_process(rank, size, fn, backend='gloo'):\n",
    "    \"\"\"Initialize the distributed environment.\"\"\"\n",
    "    os.environ['MASTER_ADDR'] = '127.0.0.1'\n",
    "    os.environ['MASTER_PORT'] = '29500'\n",
    "    dist.init_process_group(backend, rank=rank, world_size=size)\n",
    "    fn(rank, size)\n",
    "\n",
    "if __name__ == \"__main__\":\n",
    "    # Set the start method for multiprocessing\n",
    "   # multiprocessing.set_start_method('spawn')\n",
    "    size = 3 # Number of processes (GPUs) to use\n",
    "    processes = []\n",
    "    for rank in range(size):\n",
    "        p = Process(target=init_process, args=(rank, size, run))\n",
    "        p.start()\n",
    "        processes.append(p)\n",
    "\n",
    "    for p in processes:\n",
    "        p.join()\n",
    "\n",
    "\n"
   ]
  },
  {
   "cell_type": "code",
   "execution_count": null,
   "id": "c1944733",
   "metadata": {},
   "outputs": [],
   "source": [
    "print (\"finish\")"
   ]
  },
  {
   "cell_type": "code",
   "execution_count": null,
   "id": "fede100c",
   "metadata": {},
   "outputs": [],
   "source": []
  },
  {
   "cell_type": "code",
   "execution_count": null,
   "id": "ea862eb2",
   "metadata": {},
   "outputs": [],
   "source": [
    "#!pip show mahotas"
   ]
  },
  {
   "cell_type": "code",
   "execution_count": null,
   "id": "23a623c6",
   "metadata": {},
   "outputs": [],
   "source": []
  },
  {
   "cell_type": "code",
   "execution_count": null,
   "id": "c5f64fdc",
   "metadata": {},
   "outputs": [],
   "source": []
  },
  {
   "cell_type": "code",
   "execution_count": null,
   "id": "e5a9bc7e",
   "metadata": {},
   "outputs": [],
   "source": []
  },
  {
   "cell_type": "code",
   "execution_count": null,
   "id": "5106ac5d",
   "metadata": {},
   "outputs": [],
   "source": []
  },
  {
   "cell_type": "code",
   "execution_count": null,
   "id": "ebcaf369",
   "metadata": {},
   "outputs": [],
   "source": []
  },
  {
   "cell_type": "code",
   "execution_count": null,
   "id": "70d44c5a",
   "metadata": {},
   "outputs": [],
   "source": []
  },
  {
   "cell_type": "code",
   "execution_count": null,
   "id": "5d16eb16",
   "metadata": {},
   "outputs": [],
   "source": []
  }
 ],
 "metadata": {
  "kernelspec": {
   "display_name": "Python 3 (ipykernel)",
   "language": "python",
   "name": "python3"
  },
  "language_info": {
   "codemirror_mode": {
    "name": "ipython",
    "version": 3
   },
   "file_extension": ".py",
   "mimetype": "text/x-python",
   "name": "python",
   "nbconvert_exporter": "python",
   "pygments_lexer": "ipython3",
   "version": "3.9.7"
  }
 },
 "nbformat": 4,
 "nbformat_minor": 5
}
