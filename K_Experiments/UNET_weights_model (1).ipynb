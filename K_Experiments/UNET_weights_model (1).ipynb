{
 "cells": [
  {
   "cell_type": "code",
   "execution_count": null,
   "id": "9d81cfdc",
   "metadata": {},
   "outputs": [],
   "source": []
  },
  {
   "cell_type": "code",
   "execution_count": null,
   "id": "95495c21",
   "metadata": {},
   "outputs": [],
   "source": [
    "import os\n",
    "import cv2\n",
    "import time\n",
    "import shutil\n",
    "import random\n",
    "import inspect\n",
    "#import imageio as im\n",
    "import numpy as np\n",
    "import mahotas as mh\n",
    "from PIL import Image\n",
    "from tabulate import tabulate\n",
    "from tqdm.notebook import tqdm\n",
    "import matplotlib.pyplot as plt\n",
    "import keras\n",
    "from keras_unet.models import custom_unet"
   ]
  },
  {
   "cell_type": "code",
   "execution_count": null,
   "id": "a31a3640",
   "metadata": {},
   "outputs": [],
   "source": [
    "experiment = \"test3\" "
   ]
  },
  {
   "cell_type": "code",
   "execution_count": null,
   "id": "75ecac09",
   "metadata": {},
   "outputs": [],
   "source": [
    "# original directory path and working directory path for images\n",
    "data = \"/raid/mpsych/RISTERLAB/fly_segmentation_experiments/data_dir/raw_files\"\n",
    "working_dir = \"/raid/mpsych/RISTERLAB/fly_segmentation_experiments/data_dir\"\n",
    "######################################################################################################\n",
    "#experiment = \"test3\" \n",
    "######################################################################################################\n",
    "real = f\"{working_dir}/{experiment}/real_images\"\n",
    "#########################################################################################################\n",
    "machine = f\"{working_dir}/{experiment}/pre_processing/machine\"\n",
    "npy = f\"{working_dir}/{experiment}/pre_processing/npy\"\n",
    "\n",
    "directories = {\n",
    "    \"normalized\": f\"{working_dir}/{experiment}/normalized_images\",\n",
    "    \"cropped\": f\"{working_dir}/{experiment}/cropped_images\",\n",
    "    \"npy\": f\"{working_dir}/{experiment}/pre_processing/npy1\",\n",
    "    \"originals\": f\"{working_dir}/{experiment}/pre_processing/originals\",\n",
    "    \"masks\": f\"{working_dir}/{experiment}/pre_processing/masks\",\n",
    "    \"test\": f\"{working_dir}/{experiment}/pre_processing/test\",\n",
    "    \"s\": f\"{working_dir}/{experiment}/S\",\n",
    "    \"crop_original\": f\"{working_dir}/{experiment}/pre_processing/crop_originals\",\n",
    "    \"crop_masks\": f\"{working_dir}/{experiment}/pre_processing/crop_masks\",\n",
    "    \"op\": f\"{working_dir}/{experiment}/post_processing/original_prediction\",\n",
    "    \"pp\": f\"{working_dir}/{experiment}/post_processing/processed_prediction\"\n",
    "    \n",
    "}\n"
   ]
  },
  {
   "cell_type": "code",
   "execution_count": null,
   "id": "37dce769",
   "metadata": {},
   "outputs": [],
   "source": [
    "npy = f\"{working_dir}/{experiment}/pre_processing/npy1\"\n",
    "new_unet = f\"{working_dir}/{experiment}/unet_prediction_save\""
   ]
  },
  {
   "cell_type": "code",
   "execution_count": null,
   "id": "30b29e1a",
   "metadata": {},
   "outputs": [],
   "source": [
    "import keras\n",
    "from keras_unet.models import custom_unet"
   ]
  },
  {
   "cell_type": "code",
   "execution_count": null,
   "id": "81a1224d",
   "metadata": {},
   "outputs": [],
   "source": [
    "def dataset1():\n",
    "    imagedata = np.load(os.path.join(npy, 'poo.npz'))\n",
    "    labeldata = np.load(os.path.join(npy, 'pom.npz'))\n",
    "    return imagedata,labeldata\n",
    "    "
   ]
  },
  {
   "cell_type": "code",
   "execution_count": null,
   "id": "3ba6312a",
   "metadata": {},
   "outputs": [],
   "source": [
    "def dataset2():\n",
    "    imagedata = np.load(os.path.join(npy, 'original.npz'))\n",
    "    labeldata = np.load(os.path.join(npy, 'mask.npz'))\n",
    "    return imagedata,labeldata"
   ]
  },
  {
   "cell_type": "code",
   "execution_count": null,
   "id": "5422c168",
   "metadata": {},
   "outputs": [],
   "source": [
    "# imagedata = np.load(os.path.join(npy, 'original.npz'))\n",
    "# labeldata = np.load(os.path.join(npy, 'mask.npz'))"
   ]
  },
  {
   "cell_type": "code",
   "execution_count": null,
   "id": "ecd7cc97",
   "metadata": {},
   "outputs": [],
   "source": [
    "imagedata = np.load(os.path.join(npy, 'poo.npz'))\n",
    "labeldata = np.load(os.path.join(npy, 'pom.npz'))"
   ]
  },
  {
   "cell_type": "code",
   "execution_count": null,
   "id": "9f3aaeb9",
   "metadata": {},
   "outputs": [],
   "source": [
    "images_file = imagedata['data']\n",
    "images_name = imagedata['names']"
   ]
  },
  {
   "cell_type": "code",
   "execution_count": null,
   "id": "650af00a",
   "metadata": {},
   "outputs": [],
   "source": [
    "len (images_name)\n"
   ]
  },
  {
   "cell_type": "code",
   "execution_count": null,
   "id": "a62b2aa3",
   "metadata": {},
   "outputs": [],
   "source": [
    "labels_file = labeldata['data']\n",
    "labels_name = labeldata['names']"
   ]
  },
  {
   "cell_type": "code",
   "execution_count": null,
   "id": "654e31c8",
   "metadata": {},
   "outputs": [],
   "source": [
    "images = images_file\n",
    "labels = labels_file"
   ]
  },
  {
   "cell_type": "code",
   "execution_count": null,
   "id": "e5921969",
   "metadata": {},
   "outputs": [],
   "source": [
    "images.shape"
   ]
  },
  {
   "cell_type": "code",
   "execution_count": null,
   "id": "3f883eda",
   "metadata": {},
   "outputs": [],
   "source": [
    "labels.shape"
   ]
  },
  {
   "cell_type": "code",
   "execution_count": null,
   "id": "48023225",
   "metadata": {},
   "outputs": [],
   "source": [
    " # full dataset does not have the last channel\n",
    "images = images.reshape(images.shape[0],images.shape[1],images.shape[2],1)\n",
    "labels = labels.reshape(labels.shape[0],labels.shape[1],labels.shape[2],1)\n",
    "#test = test.reshape(test.shape[0],test.shape[1],test.shape[2],1)"
   ]
  },
  {
   "cell_type": "code",
   "execution_count": null,
   "id": "de62d832",
   "metadata": {},
   "outputs": [],
   "source": [
    "images.shape"
   ]
  },
  {
   "cell_type": "code",
   "execution_count": null,
   "id": "b9d212f5",
   "metadata": {},
   "outputs": [],
   "source": [
    "labels.shape"
   ]
  },
  {
   "cell_type": "code",
   "execution_count": null,
   "id": "0560aa83",
   "metadata": {},
   "outputs": [],
   "source": [
    "p = np.random.permutation(len(images))"
   ]
  },
  {
   "cell_type": "code",
   "execution_count": null,
   "id": "e0c20d2f",
   "metadata": {},
   "outputs": [],
   "source": [
    "images = images[p]\n",
    "labels = labels[p]"
   ]
  },
  {
   "cell_type": "code",
   "execution_count": null,
   "id": "eb1aa5fe",
   "metadata": {},
   "outputs": [],
   "source": [
    "labels = labels.astype(np.float64)"
   ]
  },
  {
   "cell_type": "code",
   "execution_count": null,
   "id": "18009060",
   "metadata": {},
   "outputs": [],
   "source": [
    "# images = images.astype(np.float64)\n",
    "# for i in range(images.shape[0]):\n",
    "#     images[i] = (images[i] - images[i].min()) / (images[i].max() - images[i].min()) # normalize individually\n"
   ]
  },
  {
   "cell_type": "code",
   "execution_count": null,
   "id": "51675c27",
   "metadata": {},
   "outputs": [],
   "source": [
    "# from sklearn.model_selection import train_test_split\n",
    "\n",
    "# # Split the data into training and testing sets with a ratio of 85:15\n",
    "# X_train, X_test, y_train, y_test = train_test_split(images, labels, test_size=0.15)\n",
    "\n",
    "# # Further split the training set into training and validation sets with a ratio of 82:18\n",
    "# X_train, X_val, y_train, y_val = train_test_split(X_train, y_train, test_size=0.1765)"
   ]
  },
  {
   "cell_type": "code",
   "execution_count": null,
   "id": "a0126da8",
   "metadata": {},
   "outputs": [],
   "source": [
    "X_train = images[0:1350]\n",
    "y_train = labels[0:1350]\n",
    "X_val = images[1351:1570]\n",
    "y_val = labels[1351:1570]\n",
    "X_test = images[1571:]\n",
    "y_test = labels[1571:]"
   ]
  },
  {
   "cell_type": "code",
   "execution_count": null,
   "id": "c8545af8",
   "metadata": {},
   "outputs": [],
   "source": [
    "y_train.shape"
   ]
  },
  {
   "cell_type": "code",
   "execution_count": null,
   "id": "d7d9bb3c",
   "metadata": {},
   "outputs": [],
   "source": [
    "X_train.shape"
   ]
  },
  {
   "cell_type": "code",
   "execution_count": null,
   "id": "2af448ce",
   "metadata": {},
   "outputs": [],
   "source": [
    "from keras import regularizers\n",
    "from keras.layers import Dense\n",
    "from keras.callbacks import EarlyStopping\n",
    "from keras.preprocessing.image import ImageDataGenerator\n",
    "from keras_unet.utils import plot_segm_history, plot_imgs\n",
    "import cv2\n",
    "from PIL import Image\n",
    "from skimage.filters import threshold_otsu\n",
    "from keras.preprocessing.image import ImageDataGenerator\n",
    "\n",
    "import keras.optimizers\n",
    "from keras_unet.metrics import iou, iou_thresholded\n",
    "from keras_unet.losses import jaccard_distance\n",
    "import keras.optimizers\n",
    "from keras_unet.metrics import iou, iou_thresholded\n",
    "from keras_unet.losses import jaccard_distance"
   ]
  },
  {
   "cell_type": "code",
   "execution_count": null,
   "id": "165e3571",
   "metadata": {},
   "outputs": [],
   "source": [
    "model = custom_unet(\n",
    "                    input_shape=(512, 512, 1),\n",
    "                    use_batch_norm=False,\n",
    "                    num_classes=1,\n",
    "                    filters=32,\n",
    "                    dropout=0.5,\n",
    "                    output_activation='sigmoid')"
   ]
  },
  {
   "cell_type": "code",
   "execution_count": null,
   "id": "a6d5e515",
   "metadata": {},
   "outputs": [],
   "source": [
    "opt = keras.optimizer_v1.Adam(lr=0.01)"
   ]
  },
  {
   "cell_type": "code",
   "execution_count": null,
   "id": "6afec374",
   "metadata": {},
   "outputs": [],
   "source": [
    "model.compile(optimizer = 'Adam',    \n",
    "              loss='binary_crossentropy', \n",
    "              metrics=[iou, iou_thresholded])"
   ]
  },
  {
   "cell_type": "code",
   "execution_count": null,
   "id": "a30961f8",
   "metadata": {},
   "outputs": [],
   "source": [
    "path = '/raid/mpsych/RISTERLAB/kiran/flyem/K_Experiments/models/Unet'"
   ]
  },
  {
   "cell_type": "code",
   "execution_count": null,
   "id": "1ada793f",
   "metadata": {},
   "outputs": [],
   "source": [
    "# Early stopping\n",
    "early_stopping = EarlyStopping(monitor='val_loss', patience=10)\n",
    "# Training with early stopping\n",
    "history = model.fit(X_train,\n",
    "                    y_train,\n",
    "                    batch_size=5,\n",
    "                    epochs=100,\n",
    "                    validation_data=(X_val, y_val),\n",
    "                    callbacks=[early_stopping])\n",
    "\n",
    "\n",
    "y_pred = model.predict(X_test)\n",
    "\n",
    "for i in range(15):\n",
    "    # Apply thresholding\n",
    "    threshold = 0.2\n",
    "    y_pred_binary = (y_pred [i]> threshold).astype(np.uint8)\n",
    "    binary_mask = y_pred_binary\n",
    "    z = images_name[i]\n",
    "    plt.imshow(binary_mask)\n",
    "    plt.show()\n",
    "\n",
    "# save the updated weights of the new model\n",
    "model.save_weights(f'{path}/new_Uidmodel1.h5')\n",
    "print (f'saved model : new_Umodel1.h5')\n",
    "threshold = 0.2\n",
    "y_pred_binary = (y_pred > threshold).astype(np.uint8)\n",
    "plot_segm_history(history)   \n",
    "plot_imgs(org_imgs=X_test, mask_imgs=y_test, pred_imgs=y_pred, nm_img_to_plot=10)\n",
    "    # Convert the binary_mask variable to a 2D array\n",
    "  #  binary_mask_2d = binary_mask.squeeze()\n",
    "    # Convert the binary_mask variable to uint8 format\n",
    "#    binary_mask_uint8 = (binary_mask_2d * 255).astype(np.uint8)\n",
    "   # save_path = os.path.join(new_unet, z) \n",
    "   # binary_mask_new = np.array(binary_mask_uint8)\n",
    "    #mh.imsave(save_path, binary_mask_new)\n",
    "    \n",
    " # Plotting results\n",
    "# Apply thresholding\n",
    "\n",
    "\n",
    "# history.history.keys()\n",
    "# metrics = list(history.history.keys())\n",
    "# plot_segm_history(history, metrics=metrics)   \n",
    "# plot_imgs(org_imgs=X_test, mask_imgs=y_test, pred_imgs=y_pred, nm_img_to_plot=30)\n",
    "\n",
    "# #print ('completed iteration number',k,'The value of al is ',al)\n",
    "print ('#############################')\n",
    "print()\n",
    "print()\n",
    "print()"
   ]
  },
  {
   "cell_type": "code",
   "execution_count": null,
   "id": "6c3f908f",
   "metadata": {},
   "outputs": [],
   "source": []
  },
  {
   "cell_type": "code",
   "execution_count": null,
   "id": "d11be2fd",
   "metadata": {},
   "outputs": [],
   "source": []
  },
  {
   "cell_type": "code",
   "execution_count": null,
   "id": "a7fcdfae",
   "metadata": {
    "scrolled": true
   },
   "outputs": [],
   "source": [
    "# Early stopping\n",
    "early_stopping = EarlyStopping(monitor='val_loss', patience=10)\n",
    "# Training with early stopping\n",
    "history = model.fit(X_train,\n",
    "                    y_train,\n",
    "                    batch_size=60,\n",
    "                    epochs=100,\n",
    "                    validation_data=(X_val, y_val),\n",
    "                    callbacks=[early_stopping])\n",
    "\n",
    "\n",
    "y_pred = model.predict(X_test)\n",
    "\n",
    "for i in range(15):\n",
    "    # Apply thresholding\n",
    "    threshold = 0.2\n",
    "    y_pred_binary = (y_pred > threshold).astype(np.uint8)\n",
    "    binary_mask = y_pred_binary[i]\n",
    "    z = images_name[i]\n",
    "    # Convert the binary_mask variable to a 2D array\n",
    "    binary_mask_2d = binary_mask.squeeze()\n",
    "    # Convert the binary_mask variable to uint8 format\n",
    "    binary_mask_uint8 = (binary_mask_2d * 255).astype(np.uint8)\n",
    "    save_path = os.path.join(new_unet, z) \n",
    "    binary_mask_new = np.array(binary_mask_uint8)\n",
    "    mh.imsave(save_path, binary_mask_new)\n",
    "    \n",
    "# save the updated weights of the new model\n",
    "new_model.save_weights(f'{path}/new_Umodel{bl}.h5')\n",
    "print (f'saved model : new_Umodel{bl}.h5')\n",
    "threshold = 0.2\n",
    "y_pred_binary = (y_pred > threshold).astype(np.uint8)\n",
    "plot_segm_history(history)   \n",
    "plot_imgs(org_imgs=X_test, mask_imgs=y_test, pred_imgs=y_pred, nm_img_to_plot=10)\n",
    "\n",
    "# history.history.keys()\n",
    "# metrics = list(history.history.keys())\n",
    "# plot_segm_history(history, metrics=metrics)   \n",
    "# plot_imgs(org_imgs=X_test, mask_imgs=y_test, pred_imgs=y_pred, nm_img_to_plot=30)\n",
    "\n",
    "# #print ('completed iteration number',k,'The value of al is ',al)\n",
    "print ('#############################')\n",
    "print()\n",
    "print()\n",
    "print()"
   ]
  },
  {
   "cell_type": "code",
   "execution_count": null,
   "id": "43746ce2",
   "metadata": {},
   "outputs": [],
   "source": []
  },
  {
   "cell_type": "code",
   "execution_count": null,
   "id": "d5bcaade",
   "metadata": {},
   "outputs": [],
   "source": []
  },
  {
   "cell_type": "code",
   "execution_count": null,
   "id": "1a99152b",
   "metadata": {},
   "outputs": [],
   "source": []
  },
  {
   "cell_type": "code",
   "execution_count": null,
   "id": "c1f69c59",
   "metadata": {},
   "outputs": [],
   "source": []
  },
  {
   "cell_type": "code",
   "execution_count": null,
   "id": "da114bb4",
   "metadata": {},
   "outputs": [],
   "source": [
    "def create_Umodel():\n",
    "    import keras.optimizers\n",
    "    from keras_unet.metrics import iou, iou_thresholded\n",
    "    from keras_unet.losses import jaccard_distance\n",
    "    model = custom_unet(\n",
    "                    input_shape=(512, 512, 1),\n",
    "                    use_batch_norm=False,\n",
    "                    num_classes=1,\n",
    "                    filters=32,\n",
    "                    dropout=0.5,\n",
    "                    output_activation='sigmoid')\n"
   ]
  },
  {
   "cell_type": "code",
   "execution_count": null,
   "id": "d554e20b",
   "metadata": {},
   "outputs": [],
   "source": [
    "def wtrain(number):\n",
    "    from keras import regularizers\n",
    "    from keras.layers import Dense\n",
    "    from keras.callbacks import EarlyStopping\n",
    "    from keras.preprocessing.image import ImageDataGenerator\n",
    "    from keras_unet.utils import plot_segm_history, plot_imgs\n",
    "    import cv2\n",
    "    from PIL import Image\n",
    "    from skimage.filters import threshold_otsu\n",
    "    from keras.preprocessing.image import ImageDataGenerator\n",
    "    al = 1\n",
    "    for k in range(number):\n",
    "        # create a new model with the same architecture as the original model\n",
    "        new_model = create_Umodel()\n",
    "        path = '/raid/mpsych/RISTERLAB/kiran/flyem/K_Experiments/models/Unet'\n",
    "        # load the previously saved weights into the new model\n",
    "        new_model.load_weights(f'{path}/new_Umodel{al}.h5')\n",
    "        print (f'loaded model : new_Umodel{al}.h5')\n",
    "        # compile the new model        \n",
    "        opt = keras.optimizer_v1.Adam(lr=0.01)\n",
    "        # compile the new model\n",
    "        new_model.compile(optimizer = 'Adam',    \n",
    "                          loss='binary_crossentropy', \n",
    "                          metrics=[iou, iou_thresholded])\n",
    "        # Early stopping\n",
    "        early_stopping = EarlyStopping(monitor='val_loss', patience=10)\n",
    "        # Training with early stopping\n",
    "        history = model.fit(X_train,\n",
    "                            y_train,\n",
    "                            batch_size=60,\n",
    "                            epochs=700,\n",
    "                            validation_data=(X_val, y_val),\n",
    "                            callbacks=[early_stopping])\n",
    "\n",
    "\n",
    "        bl = (al+1)\n",
    "        # save the updated weights of the new model\n",
    "        new_model.save_weights(f'{path}/new_Umodel{bl}.h5')\n",
    "        \n",
    "        print (f'saved model : new_Umodel{bl}.h5')\n",
    "        # Make predictions and apply thresholding\n",
    "        y_pred = new_model.predict(X_test)\n",
    "\n",
    "\n",
    "\n",
    "#         for i in range(5):\n",
    "#             binary_mask = y_pred[i]\n",
    "#             z = images_name[i]\n",
    "#             threshold = 0.2\n",
    "#             binary_mask = (binary_mask[i] > threshold).astype(np.uint8)\n",
    "#             # Convert the binary_mask variable to a 2D array\n",
    "#             binary_mask_2d = binary_mask.squeeze()\n",
    "#             Convert the binary_mask variable to uint8 format\n",
    "#             binary_mask_uint8 = (binary_mask_2d * 255).astype(np.uint8)\n",
    "#             save_path = os.path.join(dir_path, z) \n",
    "#             binary_mask_new = np.array(binary_mask_uint8)\n",
    "#             mh.imsave(save_path, binary_mask_new)\n",
    "            \n",
    "        threshold = 0.2\n",
    "        y_pred_binary = (y_pred[i] > threshold).astype(np.uint8)\n",
    "        plot_segm_history(history)   \n",
    "        plot_imgs(org_imgs=X_test, mask_imgs=y_test, pred_imgs=y_pred, nm_img_to_plot=10\n",
    "        al += 1\n",
    "        print ('completed iteration number',k,'The value of al is ',al)\n",
    "        print ('#############################')\n",
    "        print()\n",
    "        print()\n",
    "        print()"
   ]
  },
  {
   "cell_type": "code",
   "execution_count": null,
   "id": "94be04ba",
   "metadata": {},
   "outputs": [],
   "source": [
    "wtrain(5)"
   ]
  },
  {
   "cell_type": "code",
   "execution_count": null,
   "id": "76a9ad54",
   "metadata": {},
   "outputs": [],
   "source": []
  }
 ],
 "metadata": {
  "kernelspec": {
   "display_name": "Python 3 (ipykernel)",
   "language": "python",
   "name": "python3"
  },
  "language_info": {
   "codemirror_mode": {
    "name": "ipython",
    "version": 3
   },
   "file_extension": ".py",
   "mimetype": "text/x-python",
   "name": "python",
   "nbconvert_exporter": "python",
   "pygments_lexer": "ipython3",
   "version": "3.9.7"
  }
 },
 "nbformat": 4,
 "nbformat_minor": 5
}
