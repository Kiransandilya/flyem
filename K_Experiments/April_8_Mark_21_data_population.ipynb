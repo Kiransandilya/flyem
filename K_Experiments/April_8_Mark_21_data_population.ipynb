{
 "cells": [
  {
   "cell_type": "code",
   "execution_count": null,
   "id": "0e6f8d09",
   "metadata": {},
   "outputs": [],
   "source": [
    "import os\n",
    "import cv2\n",
    "import time\n",
    "import shutil\n",
    "import random\n",
    "import inspect\n",
    "#import imageio as im\n",
    "import numpy as np\n",
    "import mahotas as mh\n",
    "from PIL import Image\n",
    "from tabulate import tabulate\n",
    "from tqdm.notebook import tqdm\n",
    "import matplotlib.pyplot as plt\n",
    "import keras\n",
    "from keras_unet.models import custom_unet\n",
    "from keras.preprocessing.image import array_to_img"
   ]
  },
  {
   "cell_type": "code",
   "execution_count": null,
   "id": "757cab83",
   "metadata": {},
   "outputs": [],
   "source": [
    "experiment = \"test3\" "
   ]
  },
  {
   "cell_type": "code",
   "execution_count": null,
   "id": "57d43195",
   "metadata": {},
   "outputs": [],
   "source": [
    "working_dir = \"/raid/mpsych/RISTERLAB/fly_segmentation_experiments/data_dir\"\n",
    "data_p = f\"{working_dir}/{experiment}/pre_processing/npy1\"\n",
    "dp=f\"{working_dir}/{experiment}/post_processing/data_population\""
   ]
  },
  {
   "cell_type": "code",
   "execution_count": null,
   "id": "5c9fb040",
   "metadata": {},
   "outputs": [],
   "source": [
    "def filename(dir):\n",
    "    import os\n",
    "    folder_path = dir\n",
    "    # Get a list of filenames in the folder\n",
    "    filenames = os.listdir(folder_path)\n",
    "    # Print the filenames\n",
    "    for filename in filenames:\n",
    "        print(filename)\n",
    "\n",
    "        \n",
    "def datapopulation(data_path,a,dir_path,dir_name):\n",
    "    # Create an ImageDataGenerator object with the desired data augmentation parameters\n",
    "    \n",
    "    datagen = ImageDataGenerator(\n",
    "        horizontal_flip=True,\n",
    "        rotation_range=20,\n",
    "        zoom_range=0.2,\n",
    "        width_shift_range=0.2,\n",
    "        height_shift_range=0.2,\n",
    "        brightness_range=[0.8, 1.2],\n",
    "        fill_mode='nearest')\n",
    "    \n",
    "    # Load your data\n",
    "    imagedata = np.load(os.path.join(data_path, a))\n",
    "    images = imagedata['data']\n",
    "    images.shape\n",
    "    images = images.reshape(images.shape[0],images.shape[1],images.shape[2],1)\n",
    "    image_names = imagedata['names']\n",
    "    \n",
    "\n",
    "    # Create a directory to save the augmented images\n",
    "    dire_path = os.path.join(dir_path, dir_name)\n",
    "    # Check if the directory already exists\n",
    "    if os.path.exists(dire_path):\n",
    "        # Delete the existing directory\n",
    "        shutil.rmtree(dire_path)\n",
    "    # Create a new directory\n",
    "    os.makedirs(dire_path)\n",
    "    #os.makedirs('augmented_images', exist_ok=True)\n",
    "\n",
    "    # Use the ImageDataGenerator to generate augmented images\n",
    "    print(images.shape)\n",
    "    number =0\n",
    "    for j in range(images.shape[0]):\n",
    "        image = images[j:j+1]\n",
    "        #image = np.squeeze(images[j:j+1], axis=0)\n",
    "        image_name = image_names[j]\n",
    "        i = 0\n",
    "        for batch in datagen.flow(image, batch_size=1):\n",
    "            # Generate a filename for the augmented image\n",
    "            filename = f'184__{i}_{image_name}'\n",
    "            # Save the augmented image to disk\n",
    "            array_to_img(batch[0]).save(os.path.join(dire_path, filename))\n",
    "            i += 1\n",
    "            number += 1\n",
    "            print ('filename',filename,'saved to',dire_path,'for the iteration',i)\n",
    "            if i > 20:\n",
    "                print ('#############################################################')\n",
    "                print()\n",
    "                print()\n",
    "                print()\n",
    "                number =number            \n",
    "                break  # Stop after generating 20 augmented images per original imag\n",
    "            number =number\n",
    "        number =number\n",
    "    number = number \n",
    "    print ('total file count',number)"
   ]
  },
  {
   "cell_type": "code",
   "execution_count": null,
   "id": "40cae9ba",
   "metadata": {},
   "outputs": [],
   "source": [
    "from keras.preprocessing.image import ImageDataGenerator\n",
    "import os"
   ]
  },
  {
   "cell_type": "code",
   "execution_count": null,
   "id": "7e79e15a",
   "metadata": {},
   "outputs": [],
   "source": [
    "filename(data_path)"
   ]
  },
  {
   "cell_type": "code",
   "execution_count": null,
   "id": "6e4165ff",
   "metadata": {
    "scrolled": true
   },
   "outputs": [],
   "source": [
    "datapopulation(data_p,'new_originals.npz',dp,'originals')"
   ]
  },
  {
   "cell_type": "code",
   "execution_count": null,
   "id": "9213ee47",
   "metadata": {},
   "outputs": [],
   "source": [
    "datapopulation(data_p,'new_masks.npz',dp,'masks')"
   ]
  },
  {
   "cell_type": "code",
   "execution_count": null,
   "id": "7a3f1d95",
   "metadata": {},
   "outputs": [],
   "source": [
    "datapopulation(data_p,'mask.npz',dp,'old_mask')"
   ]
  },
  {
   "cell_type": "code",
   "execution_count": null,
   "id": "c874d08b",
   "metadata": {},
   "outputs": [],
   "source": [
    "datapopulation(data_p,'original.npz',dp,'old_original')"
   ]
  },
  {
   "cell_type": "code",
   "execution_count": null,
   "id": "0e131023",
   "metadata": {},
   "outputs": [],
   "source": []
  }
 ],
 "metadata": {
  "kernelspec": {
   "display_name": "Python 3 (ipykernel)",
   "language": "python",
   "name": "python3"
  },
  "language_info": {
   "codemirror_mode": {
    "name": "ipython",
    "version": 3
   },
   "file_extension": ".py",
   "mimetype": "text/x-python",
   "name": "python",
   "nbconvert_exporter": "python",
   "pygments_lexer": "ipython3",
   "version": "3.9.7"
  }
 },
 "nbformat": 4,
 "nbformat_minor": 5
}
