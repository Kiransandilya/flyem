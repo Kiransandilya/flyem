{
 "cells": [
  {
   "cell_type": "code",
   "execution_count": null,
   "id": "c7619d12",
   "metadata": {},
   "outputs": [],
   "source": [
    "# Import necessary libraries\n",
    "import os\n",
    "import cv2\n",
    "import time\n",
    "import shutil\n",
    "import random\n",
    "import inspect\n",
    "#import imageio as im\n",
    "import numpy as np\n",
    "import mahotas as mh\n",
    "from PIL import Image\n",
    "from tabulate import tabulate\n",
    "from tqdm.notebook import tqdm\n",
    "import matplotlib.pyplot as plt\n",
    "#from skimage import measure, filters\n"
   ]
  },
  {
   "cell_type": "code",
   "execution_count": null,
   "id": "0a7db685",
   "metadata": {},
   "outputs": [],
   "source": [
    "def a2brandom(src_dir, dst_dir,name, number):\n",
    "    # Get a list of all image files in the source directory\n",
    "    image_files = [f for f in tqdm(os.listdir(src_dir)) if f.endswith('.tif')]\n",
    "    # Randomly select 10 images from the list\n",
    "    selected_images = random.sample(image_files, number)\n",
    "    # Copy the selected images to the destination directory\n",
    "    for image in selected_images:\n",
    "        src_path = os.path.join(src_dir, image)\n",
    "        dst_name = name + '_' + image\n",
    "        dst_path = os.path.join(dst_dir,dst_name)\n",
    "        shutil.copy2(src_path, dst_path)\n",
    "    # Print a message when done\n",
    "    print('Copied 10 random images to', dst_dir)\n",
    "    \n",
    "def check(path):\n",
    "    # Create the directory if it does not exist\n",
    "    os.makedirs(path, exist_ok=True)\n",
    "\n",
    "    # Remove the directory and all its contents\n",
    "    shutil.rmtree(path)\n",
    "\n",
    "    # Create a new empty directory\n",
    "    os.mkdir(path)\n",
    "    #hint: check(path) - To recreate a particular path"
   ]
  },
  {
   "cell_type": "code",
   "execution_count": null,
   "id": "b39e7169",
   "metadata": {},
   "outputs": [],
   "source": [
    "def count_files(dir_path):\n",
    "    if os.path.isdir(dir_path):\n",
    "        file_count = 0\n",
    "        for file_name in os.listdir(dir_path):\n",
    "            file_path = os.path.join(dir_path, file_name)\n",
    "            file_size_bytes = os.path.getsize(file_path)\n",
    "            file_size_mb = round(file_size_bytes / (1024 * 1024), 2)\n",
    "            #print(f'{file_name} - Size: {file_size_mb} MB')\n",
    "            file_count += 1\n",
    "        return file_count\n",
    "    else:\n",
    "        print(f\"{dir_path} is not a valid directory\")\n",
    "        return 0  "
   ]
  },
  {
   "cell_type": "code",
   "execution_count": null,
   "id": "129843b9",
   "metadata": {},
   "outputs": [],
   "source": [
    "####################      Getting some random data                ###############################\n",
    "raw = '/raid/mpsych/backups/flyem/WildTypeCS1/Raw/VSOverviewTileSet/Acquired'\n",
    "raw1 = '/raid/mpsych/backups/flyem/WildTypeCS2/incoming/VSOverviewTileSet/Acquired'\n",
    "raw2 ='/raid/mpsych/backups/flyem/NINA_D1_MUTANT/VSOverviewTileSet/Acquired'\n",
    "raw3 = '/raid/mpsych/backups/flyem/MPSDel/VSOverviewTileSet/Acquired'"
   ]
  },
  {
   "cell_type": "code",
   "execution_count": null,
   "id": "98da3129",
   "metadata": {},
   "outputs": [],
   "source": [
    "data ='/raid/mpsych/RISTERLAB/cs410_data'"
   ]
  },
  {
   "cell_type": "code",
   "execution_count": null,
   "id": "b55912f2",
   "metadata": {},
   "outputs": [],
   "source": [
    "check(data)"
   ]
  },
  {
   "cell_type": "code",
   "execution_count": null,
   "id": "be74e719",
   "metadata": {},
   "outputs": [],
   "source": [
    "count_files(raw)"
   ]
  },
  {
   "cell_type": "code",
   "execution_count": null,
   "id": "cd29d976",
   "metadata": {},
   "outputs": [],
   "source": [
    "count_files(raw1)"
   ]
  },
  {
   "cell_type": "code",
   "execution_count": null,
   "id": "6f72d831",
   "metadata": {},
   "outputs": [],
   "source": [
    "count_files(raw2)"
   ]
  },
  {
   "cell_type": "code",
   "execution_count": null,
   "id": "2f8b3657",
   "metadata": {},
   "outputs": [],
   "source": [
    "count_files(raw3)"
   ]
  },
  {
   "cell_type": "code",
   "execution_count": null,
   "id": "8908d6d0",
   "metadata": {},
   "outputs": [],
   "source": [
    "a2brandom(raw,data,'001',800)"
   ]
  },
  {
   "cell_type": "code",
   "execution_count": null,
   "id": "9e0fcffd",
   "metadata": {},
   "outputs": [],
   "source": [
    "a2brandom(raw1,data,'002',1200)"
   ]
  },
  {
   "cell_type": "code",
   "execution_count": null,
   "id": "9d48ccc3",
   "metadata": {},
   "outputs": [],
   "source": [
    "a2brandom(raw2,data,'003',2100)"
   ]
  },
  {
   "cell_type": "code",
   "execution_count": null,
   "id": "69c263d5",
   "metadata": {},
   "outputs": [],
   "source": [
    "a2brandom(raw3,data,'004',1500)"
   ]
  },
  {
   "cell_type": "code",
   "execution_count": null,
   "id": "69944d59",
   "metadata": {},
   "outputs": [],
   "source": [
    "count_files(data)"
   ]
  },
  {
   "cell_type": "code",
   "execution_count": null,
   "id": "f400d161",
   "metadata": {},
   "outputs": [],
   "source": []
  }
 ],
 "metadata": {
  "kernelspec": {
   "display_name": "Python 3 (ipykernel)",
   "language": "python",
   "name": "python3"
  },
  "language_info": {
   "codemirror_mode": {
    "name": "ipython",
    "version": 3
   },
   "file_extension": ".py",
   "mimetype": "text/x-python",
   "name": "python",
   "nbconvert_exporter": "python",
   "pygments_lexer": "ipython3",
   "version": "3.9.7"
  }
 },
 "nbformat": 4,
 "nbformat_minor": 5
}
