{
 "cells": [
  {
   "cell_type": "code",
   "execution_count": 1,
   "id": "eeae56a2",
   "metadata": {},
   "outputs": [
    {
     "name": "stdout",
     "output_type": "stream",
     "text": [
      "Populating the interactive namespace from numpy and matplotlib\n"
     ]
    }
   ],
   "source": [
    "%pylab inline"
   ]
  },
  {
   "cell_type": "code",
   "execution_count": 2,
   "id": "56475f79",
   "metadata": {},
   "outputs": [],
   "source": [
    "import os"
   ]
  },
  {
   "cell_type": "code",
   "execution_count": 3,
   "id": "e9814c5b",
   "metadata": {},
   "outputs": [
    {
     "name": "stdout",
     "output_type": "stream",
     "text": [
      "Requirement already satisfied: keras-unet in /home/kunal.jain001/miniconda3/envs/O/lib/python3.9/site-packages (0.1.2)\r\n"
     ]
    }
   ],
   "source": [
    "!pip install keras-unet"
   ]
  },
  {
   "cell_type": "code",
   "execution_count": null,
   "id": "7dd22d57",
   "metadata": {},
   "outputs": [
    {
     "name": "stderr",
     "output_type": "stream",
     "text": [
      "2023-04-06 01:49:32.202059: I tensorflow/stream_executor/platform/default/dso_loader.cc:53] Successfully opened dynamic library libcudart.so.11.0\n"
     ]
    }
   ],
   "source": [
    "import keras\n",
    "from keras_unet.models import custom_unet"
   ]
  },
  {
   "cell_type": "code",
   "execution_count": null,
   "id": "3e679c2a",
   "metadata": {},
   "outputs": [],
   "source": [
    "NPYPATH = '/raid/mpsych/RISTERLAB/fly_segmentation_experiments/data_dir/test2/pre_processing/npy/'\n",
    "MODELPATH = 'raid/mpsych/RISTERLAB/fly_segmentation_experiments/data_dir/test2/pre_processing/models/'\n",
    "images_file = os.path.join(NPYPATH, 'original.npy')\n",
    "labels_file = os.path.join(NPYPATH, 'mask.npy')\n"
   ]
  },
  {
   "cell_type": "code",
   "execution_count": null,
   "id": "23936afb",
   "metadata": {},
   "outputs": [],
   "source": [
    "images = np.load(images_file)"
   ]
  },
  {
   "cell_type": "code",
   "execution_count": null,
   "id": "e75ed500",
   "metadata": {},
   "outputs": [],
   "source": [
    "images.shape"
   ]
  },
  {
   "cell_type": "code",
   "execution_count": null,
   "id": "f64ebb60",
   "metadata": {},
   "outputs": [],
   "source": [
    "imshow(images[1000])"
   ]
  },
  {
   "cell_type": "code",
   "execution_count": null,
   "id": "b6a2db84",
   "metadata": {},
   "outputs": [],
   "source": [
    "labels = np.load(labels_file)"
   ]
  },
  {
   "cell_type": "code",
   "execution_count": null,
   "id": "13eeb4c4",
   "metadata": {},
   "outputs": [],
   "source": [
    "labels.shape"
   ]
  },
  {
   "cell_type": "code",
   "execution_count": null,
   "id": "575bb14d",
   "metadata": {},
   "outputs": [],
   "source": [
    "imshow(labels[1000])"
   ]
  },
  {
   "cell_type": "code",
   "execution_count": null,
   "id": "396d9b50",
   "metadata": {},
   "outputs": [],
   "source": [
    "# full dataset does not have the last channel\n",
    "images = images.reshape(images.shape[0],images.shape[1],images.shape[2],1)\n",
    "labels = labels.reshape(labels.shape[0],labels.shape[1],labels.shape[2],1)"
   ]
  },
  {
   "cell_type": "code",
   "execution_count": null,
   "id": "802f4d57",
   "metadata": {},
   "outputs": [],
   "source": [
    "p = np.random.permutation(len(images))\n",
    "images = images[p]\n",
    "labels = labels[p]"
   ]
  },
  {
   "cell_type": "code",
   "execution_count": null,
   "id": "7606fcf0",
   "metadata": {},
   "outputs": [],
   "source": [
    "images = images.astype(np.float64)\n",
    "labels = labels.astype(np.float64)"
   ]
  },
  {
   "cell_type": "code",
   "execution_count": null,
   "id": "1ec2e924",
   "metadata": {},
   "outputs": [],
   "source": [
    "import tensorflow as tf"
   ]
  },
  {
   "cell_type": "code",
   "execution_count": null,
   "id": "793b22ad",
   "metadata": {},
   "outputs": [],
   "source": [
    "all_images = []\n",
    "all_labels = []\n",
    "\n",
    "for i in range(images.shape[0]):\n",
    "    images[i] = (images[i] - images[i].min()) / (images[i].max() - images[i].min()) # normalize individually\n",
    "    \n",
    "    mask = labels[i]\n",
    "    image = images[i]\n",
    "    \n",
    "    all_images.append(image)\n",
    "    all_labels.append(mask)\n",
    "\n",
    "    image1 = tf.image.flip_left_right(image)\n",
    "    mask1 = tf.image.flip_left_right(mask)\n",
    "    \n",
    "    all_images.append(image1)\n",
    "    all_labels.append(mask1)\n",
    "    \n",
    "\n",
    "    image2 = tf.image.flip_up_down(image)\n",
    "    mask2 = tf.image.flip_up_down(mask)\n",
    "    \n",
    "    all_images.append(image2)\n",
    "    all_labels.append(mask2)\n",
    "\n",
    "    image3 = tf.image.rot90(image)\n",
    "    mask3 = tf.image.rot90(mask)\n",
    "    \n",
    "    all_images.append(image3)\n",
    "    all_labels.append(mask3)"
   ]
  },
  {
   "cell_type": "code",
   "execution_count": null,
   "id": "c45d2ceb",
   "metadata": {},
   "outputs": [],
   "source": [
    "all_images = np.array(all_images).astype(np.float64)\n",
    "all_labels = np.array(all_labels).astype(np.float64)"
   ]
  },
  {
   "cell_type": "code",
   "execution_count": null,
   "id": "087c4eb0",
   "metadata": {},
   "outputs": [],
   "source": [
    "all_images.shape"
   ]
  },
  {
   "cell_type": "code",
   "execution_count": null,
   "id": "9f5e0611",
   "metadata": {},
   "outputs": [],
   "source": [
    "X_train = all_images[0:4500]\n",
    "y_train = all_labels[0:4500]\n",
    "X_val = all_images[4500:6000]\n",
    "y_val = all_labels[4500:6000]\n",
    "X_test = all_images[6000:]\n",
    "y_test = all_labels[6000:]"
   ]
  },
  {
   "cell_type": "code",
   "execution_count": null,
   "id": "549534fd",
   "metadata": {},
   "outputs": [],
   "source": []
  },
  {
   "cell_type": "code",
   "execution_count": null,
   "id": "92a6c640",
   "metadata": {},
   "outputs": [],
   "source": [
    "model = custom_unet(\n",
    "    input_shape=(512, 512, 1),\n",
    "    use_batch_norm=False,\n",
    "    num_classes=1,\n",
    "    filters=32,\n",
    "    dropout=0.5,\n",
    "    output_activation='sigmoid')"
   ]
  },
  {
   "cell_type": "code",
   "execution_count": null,
   "id": "bc6411af",
   "metadata": {},
   "outputs": [],
   "source": [
    "import keras.optimizers\n",
    "from keras_unet.metrics import iou, iou_thresholded\n",
    "from keras_unet.losses import jaccard_distance"
   ]
  },
  {
   "cell_type": "code",
   "execution_count": null,
   "id": "0029db38",
   "metadata": {},
   "outputs": [],
   "source": [
    "opt = keras.optimizer_v1.Adam(lr=0.01)"
   ]
  },
  {
   "cell_type": "code",
   "execution_count": null,
   "id": "31eb9222",
   "metadata": {},
   "outputs": [],
   "source": [
    "model.compile(optimizer = 'Adam',    \n",
    "              loss='binary_crossentropy', \n",
    "              metrics=[iou, iou_thresholded])"
   ]
  },
  {
   "cell_type": "code",
   "execution_count": null,
   "id": "c3b8e0d7",
   "metadata": {},
   "outputs": [],
   "source": [
    "history = model.fit(X_train, \n",
    "                    y_train, \n",
    "                    64, \n",
    "                    epochs=500,\n",
    "                    validation_data=(X_val, y_val), \n",
    "                    verbose=1)"
   ]
  },
  {
   "cell_type": "code",
   "execution_count": null,
   "id": "cf7595ad",
   "metadata": {},
   "outputs": [],
   "source": [
    "MODELPATH = '/raid/mpsych/RISTERLAB/fly_segmentation_experiments/data_dir/test2/pre_processing/models/'"
   ]
  },
  {
   "cell_type": "code",
   "execution_count": null,
   "id": "d080f578",
   "metadata": {},
   "outputs": [],
   "source": [
    "model.save(os.path.join(MODELPATH, '04-06-64-500.hdf5'))"
   ]
  },
  {
   "cell_type": "code",
   "execution_count": null,
   "id": "5b150687",
   "metadata": {},
   "outputs": [],
   "source": [
    "y_pred = model.predict(X_test)"
   ]
  },
  {
   "cell_type": "code",
   "execution_count": null,
   "id": "65700955",
   "metadata": {},
   "outputs": [],
   "source": [
    "from keras_unet.utils import plot_imgs\n",
    "\n",
    "plot_imgs(org_imgs=X_test, mask_imgs=y_test, pred_imgs=y_pred, nm_img_to_plot=24)"
   ]
  },
  {
   "cell_type": "code",
   "execution_count": null,
   "id": "232b0c04",
   "metadata": {},
   "outputs": [],
   "source": [
    "from keras_unet.utils import plot_segm_history\n",
    "\n",
    "plot_segm_history(history)"
   ]
  },
  {
   "cell_type": "code",
   "execution_count": null,
   "id": "8154e6bc",
   "metadata": {},
   "outputs": [],
   "source": []
  }
 ],
 "metadata": {
  "kernelspec": {
   "display_name": "Python 3 (ipykernel)",
   "language": "python",
   "name": "python3"
  },
  "language_info": {
   "codemirror_mode": {
    "name": "ipython",
    "version": 3
   },
   "file_extension": ".py",
   "mimetype": "text/x-python",
   "name": "python",
   "nbconvert_exporter": "python",
   "pygments_lexer": "ipython3",
   "version": "3.9.7"
  }
 },
 "nbformat": 4,
 "nbformat_minor": 5
}
