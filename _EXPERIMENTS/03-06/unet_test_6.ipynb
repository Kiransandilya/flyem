{
 "cells": [
  {
   "cell_type": "code",
   "execution_count": 1,
   "id": "eeae56a2",
   "metadata": {},
   "outputs": [
    {
     "name": "stdout",
     "output_type": "stream",
     "text": [
      "Populating the interactive namespace from numpy and matplotlib\n"
     ]
    }
   ],
   "source": [
    "%pylab inline"
   ]
  },
  {
   "cell_type": "code",
   "execution_count": 2,
   "id": "56475f79",
   "metadata": {},
   "outputs": [],
   "source": [
    "import os"
   ]
  },
  {
   "cell_type": "code",
   "execution_count": 3,
   "id": "e9814c5b",
   "metadata": {},
   "outputs": [
    {
     "name": "stdout",
     "output_type": "stream",
     "text": [
      "Requirement already satisfied: keras-unet in /home/kunal.jain001/miniconda3/envs/O/lib/python3.9/site-packages (0.1.2)\r\n"
     ]
    }
   ],
   "source": [
    "!pip install keras-unet"
   ]
  },
  {
   "cell_type": "code",
   "execution_count": 4,
   "id": "7dd22d57",
   "metadata": {},
   "outputs": [
    {
     "name": "stderr",
     "output_type": "stream",
     "text": [
      "2023-03-06 12:16:15.943159: I tensorflow/stream_executor/platform/default/dso_loader.cc:53] Successfully opened dynamic library libcudart.so.11.0\n",
      "/home/kunal.jain001/miniconda3/envs/O/lib/python3.9/site-packages/scipy/__init__.py:146: UserWarning: A NumPy version >=1.16.5 and <1.23.0 is required for this version of SciPy (detected version 1.23.5\n",
      "  warnings.warn(f\"A NumPy version >={np_minversion} and <{np_maxversion}\"\n"
     ]
    },
    {
     "name": "stdout",
     "output_type": "stream",
     "text": [
      "-----------------------------------------\n",
      "keras-unet init: TF version is >= 2.0.0 - using `tf.keras` instead of `Keras`\n",
      "-----------------------------------------\n"
     ]
    }
   ],
   "source": [
    "import keras\n",
    "from keras_unet.models import custom_unet"
   ]
  },
  {
   "cell_type": "code",
   "execution_count": 5,
   "id": "071d8164",
   "metadata": {},
   "outputs": [],
   "source": [
    "DATAPATH = '/raid/mpsych/RISTERLAB/fly_segmentation_experiments/classified_images/npy_files'\n",
    "images_file = os.path.join(DATAPATH, 'fly-mar-06-original-images.npy')\n",
    "labels_file = os.path.join(DATAPATH, 'fly-mar-06-segmented.npy')"
   ]
  },
  {
   "cell_type": "code",
   "execution_count": 6,
   "id": "32b4ff86",
   "metadata": {},
   "outputs": [],
   "source": [
    "images = np.load(images_file)\n",
    "labels = np.load(labels_file)"
   ]
  },
  {
   "cell_type": "code",
   "execution_count": 7,
   "id": "c20f6410",
   "metadata": {},
   "outputs": [
    {
     "data": {
      "text/plain": [
       "(56, 512, 512)"
      ]
     },
     "execution_count": 7,
     "metadata": {},
     "output_type": "execute_result"
    }
   ],
   "source": [
    "images.shape"
   ]
  },
  {
   "cell_type": "code",
   "execution_count": 8,
   "id": "88d23a38",
   "metadata": {},
   "outputs": [],
   "source": [
    "# full dataset does not have the last channel\n",
    "images = images.reshape(images.shape[0],images.shape[1],images.shape[2],1)\n",
    "labels = labels.reshape(labels.shape[0],labels.shape[1],labels.shape[2],1)"
   ]
  },
  {
   "cell_type": "code",
   "execution_count": 9,
   "id": "49f365b9",
   "metadata": {},
   "outputs": [
    {
     "data": {
      "text/plain": [
       "(56, 512, 512, 1)"
      ]
     },
     "execution_count": 9,
     "metadata": {},
     "output_type": "execute_result"
    }
   ],
   "source": [
    "images.shape"
   ]
  },
  {
   "cell_type": "code",
   "execution_count": 10,
   "id": "1f08d311",
   "metadata": {},
   "outputs": [],
   "source": [
    "p = np.random.permutation(len(images))"
   ]
  },
  {
   "cell_type": "code",
   "execution_count": 11,
   "id": "e974d7b6",
   "metadata": {},
   "outputs": [],
   "source": [
    "images = images[p]\n",
    "labels = labels[p]"
   ]
  },
  {
   "cell_type": "code",
   "execution_count": 12,
   "id": "f5e7eabf",
   "metadata": {},
   "outputs": [],
   "source": [
    "labels = labels.astype(np.float64)"
   ]
  },
  {
   "cell_type": "code",
   "execution_count": 13,
   "id": "b681b4ba",
   "metadata": {},
   "outputs": [],
   "source": [
    "images = images.astype(np.float64)\n",
    "\n",
    "for i in range(images.shape[0]):\n",
    "    images[i] = (images[i] - images[i].min()) / (images[i].max() - images[i].min()) # normalize individually"
   ]
  },
  {
   "cell_type": "code",
   "execution_count": 14,
   "id": "cfc1bb55",
   "metadata": {},
   "outputs": [
    {
     "data": {
      "text/plain": [
       "(56, 512, 512, 1)"
      ]
     },
     "execution_count": 14,
     "metadata": {},
     "output_type": "execute_result"
    }
   ],
   "source": [
    "images.shape"
   ]
  },
  {
   "cell_type": "code",
   "execution_count": 21,
   "id": "8afad9f4",
   "metadata": {},
   "outputs": [],
   "source": [
    "X_train = images[0:40]\n",
    "y_train = labels[0:40]\n",
    "X_val = images[40:50]\n",
    "y_val = labels[40:50]\n",
    "X_test = images[50:]\n",
    "y_test = labels[50:]"
   ]
  },
  {
   "cell_type": "code",
   "execution_count": null,
   "id": "e878a147",
   "metadata": {},
   "outputs": [],
   "source": []
  },
  {
   "cell_type": "code",
   "execution_count": 22,
   "id": "b591ce23",
   "metadata": {},
   "outputs": [],
   "source": [
    "model = custom_unet(\n",
    "    input_shape=(512, 512, 1),\n",
    "    use_batch_norm=False,\n",
    "    num_classes=1,\n",
    "    filters=32,\n",
    "    dropout=0.5,\n",
    "    output_activation='sigmoid')"
   ]
  },
  {
   "cell_type": "code",
   "execution_count": 23,
   "id": "d8fd6552",
   "metadata": {},
   "outputs": [],
   "source": [
    "import keras.optimizers\n",
    "from keras_unet.metrics import iou, iou_thresholded\n",
    "from keras_unet.losses import jaccard_distance"
   ]
  },
  {
   "cell_type": "code",
   "execution_count": null,
   "id": "1fd77967",
   "metadata": {},
   "outputs": [],
   "source": []
  },
  {
   "cell_type": "code",
   "execution_count": null,
   "id": "e549d6a5",
   "metadata": {},
   "outputs": [],
   "source": []
  },
  {
   "cell_type": "code",
   "execution_count": 24,
   "id": "642990d6",
   "metadata": {},
   "outputs": [],
   "source": [
    "opt = keras.optimizer_v1.Adam(lr=0.01)"
   ]
  },
  {
   "cell_type": "code",
   "execution_count": 25,
   "id": "3f357cf3",
   "metadata": {},
   "outputs": [],
   "source": [
    "model.compile(optimizer = 'Adam',    \n",
    "              loss='binary_crossentropy', \n",
    "              metrics=[iou, iou_thresholded])"
   ]
  },
  {
   "cell_type": "code",
   "execution_count": null,
   "id": "abe2acfd",
   "metadata": {},
   "outputs": [
    {
     "name": "stdout",
     "output_type": "stream",
     "text": [
      "Epoch 1/100\n",
      "2/2 [==============================] - 231s 57s/step - loss: 0.6990 - iou: 0.0700 - iou_thresholded: 0.0456 - val_loss: 0.5409 - val_iou: 0.0931 - val_iou_thresholded: 6.9308e-04\n",
      "Epoch 2/100\n",
      "2/2 [==============================] - 229s 57s/step - loss: 0.4549 - iou: 0.0599 - iou_thresholded: 9.8619e-04 - val_loss: 0.4588 - val_iou: 0.0705 - val_iou_thresholded: 3.0662e-06\n",
      "Epoch 3/100\n",
      "2/2 [==============================] - 229s 57s/step - loss: 0.4177 - iou: 0.0361 - iou_thresholded: 7.4669e-06 - val_loss: 0.4405 - val_iou: 0.0620 - val_iou_thresholded: 3.0663e-06\n",
      "Epoch 4/100\n",
      "2/2 [==============================] - 229s 57s/step - loss: 0.4338 - iou: 0.0326 - iou_thresholded: 4.9775e-06 - val_loss: 0.4759 - val_iou: 0.0786 - val_iou_thresholded: 3.0663e-06\n",
      "Epoch 5/100\n",
      "2/2 [==============================] - 229s 57s/step - loss: 0.4142 - iou: 0.0506 - iou_thresholded: 3.8531e-06 - val_loss: 0.4885 - val_iou: 0.0836 - val_iou_thresholded: 3.0663e-06\n",
      "Epoch 6/100\n"
     ]
    }
   ],
   "source": [
    "history = model.fit(X_train, \n",
    "                    y_train, \n",
    "                    32, \n",
    "                    epochs=100,\n",
    "                    validation_data=(X_val, y_val), \n",
    "                    verbose=1)"
   ]
  },
  {
   "cell_type": "code",
   "execution_count": null,
   "id": "82164539",
   "metadata": {},
   "outputs": [],
   "source": []
  }
 ],
 "metadata": {
  "kernelspec": {
   "display_name": "Python 3 (ipykernel)",
   "language": "python",
   "name": "python3"
  },
  "language_info": {
   "codemirror_mode": {
    "name": "ipython",
    "version": 3
   },
   "file_extension": ".py",
   "mimetype": "text/x-python",
   "name": "python",
   "nbconvert_exporter": "python",
   "pygments_lexer": "ipython3",
   "version": "3.9.7"
  }
 },
 "nbformat": 4,
 "nbformat_minor": 5
}
